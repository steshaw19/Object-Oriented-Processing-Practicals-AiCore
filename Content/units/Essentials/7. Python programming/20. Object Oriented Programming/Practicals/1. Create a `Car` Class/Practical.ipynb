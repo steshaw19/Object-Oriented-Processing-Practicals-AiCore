{
  "cells": [
    {
      "cell_type": "markdown",
      "metadata": {
        "id": "view-in-github",
        "colab_type": "text"
      },
      "source": [
        "<a href=\"https://colab.research.google.com/github/steshaw19/Object-Oriented-Processing-Practicals-AiCore/blob/main/Content/units/Essentials/7.%20Python%20programming/20.%20Object%20Oriented%20Programming/Practicals/1.%20Create%20a%20%60Car%60%20Class/Practical.ipynb\" target=\"_parent\"><img src=\"https://colab.research.google.com/assets/colab-badge.svg\" alt=\"Open In Colab\"/></a>"
      ]
    },
    {
      "cell_type": "markdown",
      "id": "84369184",
      "metadata": {
        "id": "84369184"
      },
      "source": [
        "# Create a `Car` Class"
      ]
    },
    {
      "cell_type": "markdown",
      "id": "a7c2f870",
      "metadata": {
        "id": "a7c2f870"
      },
      "source": [
        "#### 1. Create a `Car` class"
      ]
    },
    {
      "cell_type": "code",
      "execution_count": 7,
      "id": "ca65b59f",
      "metadata": {
        "id": "ca65b59f"
      },
      "outputs": [],
      "source": [
        "# class definition with class constructor and attributes\n",
        "class Car():\n",
        "  def __init__(self, model, year, miles_driven=0):\n",
        "    self.model = model\n",
        "    self.year = year\n",
        "    self.miles_driven = miles_driven"
      ]
    },
    {
      "cell_type": "markdown",
      "id": "34900e8d",
      "metadata": {
        "id": "34900e8d"
      },
      "source": [
        "#### 2. Define the constructor for the class:\n",
        "- It takes in two arguments (other than `self`), and assign their values as attributes of the instance:\n",
        "    - One called `model` (e.g. Tesla), which has no default\n",
        "    - One called `year`, which is an integer, which defaults to the current year (just hard code the current year in)\n",
        "- It also defines a new attribute (remember that is not passed as an argument):\n",
        "     - One called `miles_driven`, which is set to zero"
      ]
    },
    {
      "cell_type": "code",
      "execution_count": null,
      "id": "c01f2310",
      "metadata": {
        "id": "c01f2310"
      },
      "outputs": [],
      "source": []
    },
    {
      "cell_type": "markdown",
      "id": "4e7d63b5",
      "metadata": {
        "id": "4e7d63b5"
      },
      "source": [
        "#### 3. Create a method called `drive`\n",
        "\n",
        "- It prints \"vroom\" and increment the instance's `miles_driven` attribute by 1"
      ]
    },
    {
      "cell_type": "code",
      "execution_count": 17,
      "id": "b4f31c34",
      "metadata": {
        "id": "b4f31c34",
        "outputId": "56698b7f-b03d-419f-ba3f-633283a11508",
        "colab": {
          "base_uri": "https://localhost:8080/",
          "height": 349
        }
      },
      "outputs": [
        {
          "output_type": "stream",
          "name": "stdout",
          "text": [
            "vroom\n"
          ]
        },
        {
          "output_type": "error",
          "ename": "UnboundLocalError",
          "evalue": "ignored",
          "traceback": [
            "\u001b[0;31m---------------------------------------------------------------------------\u001b[0m",
            "\u001b[0;31mUnboundLocalError\u001b[0m                         Traceback (most recent call last)",
            "\u001b[0;32m<ipython-input-17-5201702297f7>\u001b[0m in \u001b[0;36m<cell line: 15>\u001b[0;34m()\u001b[0m\n\u001b[1;32m     13\u001b[0m \u001b[0;34m\u001b[0m\u001b[0m\n\u001b[1;32m     14\u001b[0m \u001b[0mmy_car\u001b[0m \u001b[0;34m=\u001b[0m \u001b[0mCar\u001b[0m\u001b[0;34m(\u001b[0m\u001b[0;34m\"Ford\"\u001b[0m\u001b[0;34m,\u001b[0m \u001b[0;36m1999\u001b[0m\u001b[0;34m,\u001b[0m \u001b[0;36m2001\u001b[0m\u001b[0;34m)\u001b[0m\u001b[0;34m\u001b[0m\u001b[0;34m\u001b[0m\u001b[0m\n\u001b[0;32m---> 15\u001b[0;31m \u001b[0mprint\u001b[0m\u001b[0;34m(\u001b[0m\u001b[0mmy_car\u001b[0m\u001b[0;34m.\u001b[0m\u001b[0mdrive\u001b[0m\u001b[0;34m(\u001b[0m\u001b[0;34m)\u001b[0m\u001b[0;34m)\u001b[0m\u001b[0;34m\u001b[0m\u001b[0;34m\u001b[0m\u001b[0m\n\u001b[0m",
            "\u001b[0;32m<ipython-input-17-5201702297f7>\u001b[0m in \u001b[0;36mdrive\u001b[0;34m(self)\u001b[0m\n\u001b[1;32m      9\u001b[0m   \u001b[0;32mdef\u001b[0m \u001b[0mdrive\u001b[0m\u001b[0;34m(\u001b[0m\u001b[0mself\u001b[0m\u001b[0;34m)\u001b[0m\u001b[0;34m:\u001b[0m\u001b[0;34m\u001b[0m\u001b[0;34m\u001b[0m\u001b[0m\n\u001b[1;32m     10\u001b[0m     \u001b[0mprint\u001b[0m\u001b[0;34m(\u001b[0m\u001b[0;34m\"vroom\"\u001b[0m\u001b[0;34m)\u001b[0m\u001b[0;34m\u001b[0m\u001b[0;34m\u001b[0m\u001b[0m\n\u001b[0;32m---> 11\u001b[0;31m     \u001b[0mmiles_driven\u001b[0m \u001b[0;34m+=\u001b[0m \u001b[0;36m1\u001b[0m\u001b[0;34m\u001b[0m\u001b[0;34m\u001b[0m\u001b[0m\n\u001b[0m\u001b[1;32m     12\u001b[0m     \u001b[0;32mreturn\u001b[0m \u001b[0mself\u001b[0m\u001b[0;34m.\u001b[0m\u001b[0mmiles_driven\u001b[0m\u001b[0;34m\u001b[0m\u001b[0;34m\u001b[0m\u001b[0m\n\u001b[1;32m     13\u001b[0m \u001b[0;34m\u001b[0m\u001b[0m\n",
            "\u001b[0;31mUnboundLocalError\u001b[0m: local variable 'miles_driven' referenced before assignment"
          ]
        }
      ],
      "source": [
        "# class definition with class constructor and attributes\n",
        "class Car():\n",
        "  def __init__(self, model, year, miles_driven=0):\n",
        "    self.model = model\n",
        "    self.year = year\n",
        "    self.miles_driven = miles_driven\n",
        "\n",
        "  # method which asks the car to drive and adds one mile to miles_driven\n",
        "  def drive(self):\n",
        "    print(\"vroom\")\n",
        "    self.miles_driven += 1\n",
        "    return self.miles_driven\n",
        "\n",
        "my_car = Car(\"Ford\", 1999, 2001)\n",
        "print(my_car.drive())"
      ]
    },
    {
      "cell_type": "markdown",
      "id": "f6fdabf4",
      "metadata": {
        "id": "f6fdabf4"
      },
      "source": [
        "#### 4. Create a method called `info`\n",
        "\n",
        "- It prints the number of miles driven, the model name and the year"
      ]
    },
    {
      "cell_type": "code",
      "execution_count": 20,
      "id": "0807d613",
      "metadata": {
        "id": "0807d613",
        "outputId": "064f146f-580d-4467-ae00-89195eab8327",
        "colab": {
          "base_uri": "https://localhost:8080/"
        }
      },
      "outputs": [
        {
          "output_type": "stream",
          "name": "stdout",
          "text": [
            "The model of the car is Mercedes from the year 2023, and has driven 15274 miles.\n",
            "None\n"
          ]
        }
      ],
      "source": [
        "# class definition with class constructor and attributes\n",
        "class Car():\n",
        "  def __init__(self, model, year, miles_driven=0):\n",
        "    self.model = model\n",
        "    self.year = year\n",
        "    self.miles_driven = miles_driven\n",
        "\n",
        "  # method which asks the car to drive and adds one mile to miles_driven\n",
        "  def drive(self):\n",
        "    print(\"vroom\")\n",
        "    self.miles_driven += 1\n",
        "    return self.miles_driven\n",
        "\n",
        "  # function prints the info for the car\n",
        "  def info(self):\n",
        "    print(f\"The model of the car is {self.model} from the year {self.year}, and has driven {self.miles_driven} miles.\")\n",
        "\n",
        "my_car = Car(\"Ford\", 1999, 2001)\n",
        "my_second_car = Car(\"Mercedes\", 2023, 15274)\n",
        "print(my_second_car.info())"
      ]
    },
    {
      "cell_type": "markdown",
      "id": "1954b876",
      "metadata": {
        "id": "1954b876"
      },
      "source": [
        "#### 5. Initialiase the class and call all the methods\n",
        "\n",
        "- Give the instance the model name \"Tesla\" and the year 2019.\n",
        "- Call the `drive` method 5 times\n",
        "- Call the `info` method. It should print something like \"5 miles driven, Tesla, 2019\"\n"
      ]
    },
    {
      "cell_type": "code",
      "execution_count": 27,
      "id": "0a51d328",
      "metadata": {
        "id": "0a51d328",
        "outputId": "189ea04d-3f7c-45f7-903e-f7001c40b36e",
        "colab": {
          "base_uri": "https://localhost:8080/"
        }
      },
      "outputs": [
        {
          "output_type": "stream",
          "name": "stdout",
          "text": [
            "vroom\n",
            "1 mile driven.\n",
            "vroom\n",
            "2 miles driven.\n",
            "vroom\n",
            "3 miles driven.\n",
            "vroom\n",
            "4 miles driven.\n",
            "vroom\n",
            "5 miles driven.\n",
            "The model of the car is Tesla from the year 2019, and has driven 5 miles.\n"
          ]
        }
      ],
      "source": [
        "# class definition with class constructor and attributes\n",
        "class Car():\n",
        "  def __init__(self, model, year, miles_driven=0):\n",
        "    self.model = model\n",
        "    self.year = year\n",
        "    self.miles_driven = miles_driven\n",
        "\n",
        "  # method which asks the car to drive and adds one mile to miles_driven\n",
        "  def drive(self):\n",
        "    print(\"vroom\")\n",
        "    self.miles_driven += 1\n",
        "    return (f\"{self.miles_driven} mile driven.\") if self.miles_driven == 1 else (f\"{self.miles_driven} miles driven.\")\n",
        "\n",
        "\n",
        "  # function prints the info for the car\n",
        "  def info(self):\n",
        "    return (f\"The model of the car is {self.model} from the year {self.year}, and has driven {self.miles_driven} miles.\")\n",
        "\n",
        "my_car = Car(\"Tesla\", 2019)\n",
        "print(my_car.drive())\n",
        "print(my_car.drive())\n",
        "print(my_car.drive())\n",
        "print(my_car.drive())\n",
        "print(my_car.drive())\n",
        "print(my_car.info())"
      ]
    },
    {
      "cell_type": "code",
      "source": [],
      "metadata": {
        "id": "olijK-hcIiyG"
      },
      "id": "olijK-hcIiyG",
      "execution_count": null,
      "outputs": []
    }
  ],
  "metadata": {
    "kernelspec": {
      "display_name": "content-projects_new",
      "language": "python",
      "name": "python3"
    },
    "language_info": {
      "name": "python",
      "version": "3.10.8 (main, Nov 24 2022, 14:13:03) [GCC 11.2.0]"
    },
    "vscode": {
      "interpreter": {
        "hash": "4b961f8166aad6ccb4cf65d0f9c742ef9c6c23ffe83ad932438cd83ed96aebaf"
      }
    },
    "colab": {
      "provenance": [],
      "include_colab_link": true
    }
  },
  "nbformat": 4,
  "nbformat_minor": 5
}