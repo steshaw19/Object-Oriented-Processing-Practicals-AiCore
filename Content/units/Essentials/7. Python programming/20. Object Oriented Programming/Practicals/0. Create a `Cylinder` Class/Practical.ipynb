{
  "cells": [
    {
      "cell_type": "markdown",
      "metadata": {
        "id": "view-in-github",
        "colab_type": "text"
      },
      "source": [
        "<a href=\"https://colab.research.google.com/github/steshaw19/Object-Oriented_Processing_Practicals_AiCore/blob/main/Content/units/Essentials/7.%20Python%20programming/20.%20Object%20Oriented%20Programming/Practicals/0.%20Create%20a%20%60Cylinder%60%20Class/Practical.ipynb\" target=\"_parent\"><img src=\"https://colab.research.google.com/assets/colab-badge.svg\" alt=\"Open In Colab\"/></a>"
      ]
    },
    {
      "cell_type": "markdown",
      "id": "0bd138e3",
      "metadata": {
        "id": "0bd138e3"
      },
      "source": [
        "# Create a `Cylinder` Class"
      ]
    },
    {
      "cell_type": "markdown",
      "id": "b7bd6935",
      "metadata": {
        "id": "b7bd6935"
      },
      "source": [
        "#### 1. Define a `Cylinder` class.\n",
        "\n",
        "The constructor (`__init__`) should take two arguments:\n",
        "- `height`\n",
        "- `radius`, which has a default value of 1\n",
        "\n",
        "Create two attributes:\n",
        "- `height`\n",
        "- `radius`\n",
        "\n",
        "whose values are set to the arguments passed to the constructor."
      ]
    },
    {
      "cell_type": "code",
      "execution_count": 1,
      "id": "c0ea8fe8",
      "metadata": {
        "id": "c0ea8fe8"
      },
      "outputs": [],
      "source": [
        "# class definition\n",
        "class Cylinder():\n",
        "  #class constructor\n",
        "  def __init__(self, height, radius=1):\n",
        "\n",
        "    #attributes\n",
        "    self.height = height\n",
        "    self.radius = radius\n",
        "\n"
      ]
    },
    {
      "cell_type": "markdown",
      "id": "dc156393",
      "metadata": {
        "id": "dc156393"
      },
      "source": [
        "#### 2. Then, create a variable called `my_cylinder` that is an instance of the `Cylinder` class with a height of 10 and a radius of 5.\n",
        "\n",
        "You can check the attributes of `my_cylinder` by running:\n",
        "\n",
        "```python\n",
        "print(my_cylinder.height)\n",
        "print(my_cylinder.radius)\n",
        "```\n"
      ]
    },
    {
      "cell_type": "code",
      "execution_count": 3,
      "id": "213e8f42",
      "metadata": {
        "id": "213e8f42",
        "outputId": "d3403146-3223-46d9-a6ca-6a8e5cfd3237",
        "colab": {
          "base_uri": "https://localhost:8080/"
        }
      },
      "outputs": [
        {
          "output_type": "stream",
          "name": "stdout",
          "text": [
            "10\n",
            "5\n"
          ]
        }
      ],
      "source": [
        "# TODO - Create a cylinder object with height = 10 and radius = 5\n",
        "my_cylinder = Cylinder(10, 5)\n",
        "print(my_cylinder.height)\n",
        "print(my_cylinder.radius)"
      ]
    },
    {
      "cell_type": "markdown",
      "id": "8ba330f4",
      "metadata": {
        "id": "8ba330f4"
      },
      "source": [
        "\n",
        "#### 3. Add two more attributes to the `Cylinder` class:\n",
        "- `surface_area`, initialised as `None`\n",
        "- `volume`, initialised as `None`"
      ]
    },
    {
      "cell_type": "code",
      "execution_count": 6,
      "id": "09bae3b4",
      "metadata": {
        "id": "09bae3b4"
      },
      "outputs": [],
      "source": [
        "class Cylinder:\n",
        "\n",
        "    def __init__(self, height, radius):\n",
        "        self.height = height\n",
        "        self.radius = radius\n",
        "        # TODO - Add a surface area attribute\n",
        "        self.surface_area = None\n",
        "        # TODO - Add a volume attribute\n",
        "        self.volume = None\n"
      ]
    },
    {
      "cell_type": "markdown",
      "id": "ebc8284a",
      "metadata": {
        "id": "ebc8284a"
      },
      "source": [
        "#### 4. Create another instance of the `Cylinder` class called `my_cylinder2` with a height of 20 and a radius of 10.\n",
        "\n",
        "Print the attributes of `my_cylinder2` to check that they are correct."
      ]
    },
    {
      "cell_type": "code",
      "execution_count": 8,
      "id": "da716350",
      "metadata": {
        "id": "da716350",
        "outputId": "4f5c4a14-d0b1-416f-e213-2a68b2efa5cd",
        "colab": {
          "base_uri": "https://localhost:8080/"
        }
      },
      "outputs": [
        {
          "output_type": "stream",
          "name": "stdout",
          "text": [
            "20\n",
            "10\n"
          ]
        }
      ],
      "source": [
        "# TODO - Create a cylinder object with height = 20 and radius = 10\n",
        "my_cylinder2 = Cylinder(20, 10)\n",
        "# TODO - Print the height of the cylinder\n",
        "print(my_cylinder2.height)\n",
        "# TODO - Print the radius of the cylinder\n",
        "print(my_cylinder2.radius)"
      ]
    },
    {
      "cell_type": "markdown",
      "id": "2b274aab",
      "metadata": {
        "id": "2b274aab"
      },
      "source": [
        "#### 5. Add two methods to the `Cylinder` class:\n",
        "\n",
        "- `get_surface_area`: This method updates the attribute `surface_area`, and it returns the value rounded to two decimal places.\n",
        "- `get_volume`: This method updates the attribute `volume`, and it returns the value rounded to two decimal places.\n",
        "\n",
        "Use Google to find the formulae for surface area and volume of a cylinder. Use the formulae to create method definitions for these."
      ]
    },
    {
      "cell_type": "code",
      "execution_count": 18,
      "id": "7a2badf9",
      "metadata": {
        "id": "7a2badf9",
        "outputId": "d300d0b6-6b86-4d9e-9fa1-1630922c7c73",
        "colab": {
          "base_uri": "https://localhost:8080/"
        }
      },
      "outputs": [
        {
          "output_type": "stream",
          "name": "stdout",
          "text": [
            "94.25\n",
            "56.55\n"
          ]
        }
      ],
      "source": [
        "\n",
        "import math\n",
        "\n",
        "class Cylinder:\n",
        "    def __init__(self, height, radius):\n",
        "        self.height = height\n",
        "        self.radius = radius\n",
        "        self.surface_area = self.get_surface_area()\n",
        "        self.volume = self.get_volume()\n",
        "\n",
        "   # TODO - Define the surface area method.\n",
        "    def calculate_surface_area(self):\n",
        "      # A=2πrh+2πr^2\n",
        "      if self.radius is not None and self.height is not None:\n",
        "        self.surface_area = 2 * math.pi * self.radius * self.height + 2 *math.pi * (self.radius ** 2)\n",
        "      else:\n",
        "        return None\n",
        "\n",
        "    # TODO - Define the volume method.\n",
        "    def calculate_volume(self):\n",
        "      # V=πr^2h\n",
        "      if self.radius is not None and self.height is not None:\n",
        "        self.volume = math.pi * (self.radius ** 2) * self.height\n",
        "      else:\n",
        "        return None\n",
        "\n",
        "    def get_surface_area(self):\n",
        "        # Calculate and return the surface area rounded to two decimal places\n",
        "      self.calculate_surface_area()\n",
        "      if self.surface_area is not None:\n",
        "        return round(self.surface_area, 2)\n",
        "      else:\n",
        "        return None\n",
        "\n",
        "    def get_volume(self):\n",
        "        # Calculate and return the volume rounded to two decimal places\n",
        "      self.calculate_volume()\n",
        "      if self.volume is not None:\n",
        "        return round(self.volume, 2)\n",
        "      else:\n",
        "        return None\n",
        "\n",
        "\n",
        "\n",
        "\n",
        "my_cylinder = Cylinder(2, 3)\n",
        "print(my_cylinder.get_surface_area())\n",
        "print(my_cylinder.get_volume())\n"
      ]
    },
    {
      "cell_type": "markdown",
      "id": "2ad73a8b",
      "metadata": {
        "id": "2ad73a8b"
      },
      "source": [
        "#### 6. Change the way `surface_area` and `volume` are initialised.\n",
        "\n",
        "In the `__init__` method, instead of initialising `surface_area` and `volume` to `None`, initialise them to the value returned by `get_surface_area` and `get_volume` respectively."
      ]
    },
    {
      "cell_type": "code",
      "execution_count": 20,
      "id": "e8b67ae8",
      "metadata": {
        "id": "e8b67ae8",
        "outputId": "6638860e-e7a7-43bb-f27d-57fe54fc2e26",
        "colab": {
          "base_uri": "https://localhost:8080/"
        }
      },
      "outputs": [
        {
          "output_type": "stream",
          "name": "stdout",
          "text": [
            "1055.58\n",
            "2616.95\n"
          ]
        }
      ],
      "source": [
        "import math\n",
        "\n",
        "class Cylinder:\n",
        "    def __init__(self, height, radius):\n",
        "        self.height = height\n",
        "        self.radius = radius\n",
        "        self.surface_area = self.get_surface_area()\n",
        "        self.volume = self.get_volume()\n",
        "\n",
        "   # TODO - Define the surface area method.\n",
        "    def calculate_surface_area(self):\n",
        "      # A=2πrh+2πr^2\n",
        "      if self.radius is not None and self.height is not None:\n",
        "        self.surface_area = 2 * math.pi * self.radius * self.height + 2 *math.pi * (self.radius ** 2)\n",
        "      else:\n",
        "        return None\n",
        "\n",
        "    # TODO - Define the volume method.\n",
        "    def calculate_volume(self):\n",
        "      # V=πr^2h\n",
        "      if self.radius is not None and self.height is not None:\n",
        "        self.volume = math.pi * (self.radius ** 2) * self.height\n",
        "      else:\n",
        "        return None\n",
        "\n",
        "    def get_surface_area(self):\n",
        "        # Calculate and return the surface area rounded to two decimal places\n",
        "      self.calculate_surface_area()\n",
        "      if self.surface_area is not None:\n",
        "        return round(self.surface_area, 2)\n",
        "      else:\n",
        "        return None\n",
        "\n",
        "    def get_volume(self):\n",
        "        # Calculate and return the volume rounded to two decimal places\n",
        "      self.calculate_volume()\n",
        "      if self.volume is not None:\n",
        "        return round(self.volume, 2)\n",
        "      else:\n",
        "        return None\n",
        "\n",
        "\n",
        "\n",
        "\n",
        "my_cylinder = Cylinder(17, 7)\n",
        "print(my_cylinder.get_surface_area())\n",
        "print(my_cylinder.get_volume())"
      ]
    },
    {
      "cell_type": "markdown",
      "id": "8fe8fb23",
      "metadata": {
        "id": "8fe8fb23"
      },
      "source": [
        "## Quick quiz\n",
        "\n",
        "1. What is the meaning of the `self` parameter?\n",
        "2. What type of method is `__init__` ?\n",
        "3. If we want to call a method of the `Cylinder` class, what do we need to do first?"
      ]
    },
    {
      "cell_type": "code",
      "execution_count": 22,
      "id": "cc3ae367",
      "metadata": {
        "id": "cc3ae367",
        "outputId": "c8e2ad0b-9c36-4b79-ad89-92810013e9dc",
        "colab": {
          "base_uri": "https://localhost:8080/"
        }
      },
      "outputs": [
        {
          "output_type": "stream",
          "name": "stdout",
          "text": [
            "You selected it refers to 'this instance of the class' \n",
            "You selected magic method\n",
            "You selected Create an instance of the class\n"
          ]
        }
      ],
      "source": [
        "#@title Click `Show code` in the code cell. { display-mode: \"form\" }\n",
        "question_1 = \"it refers to 'this instance of the class' \" #@param [\"it refers to the class\", \"it refers to 'this instance of the class' \", \"it refers to the current method\"]\n",
        "print('You selected', question_1)\n",
        "\n",
        "question_2 = \"magic method\" #@param [\"Awesome method\", \"magic method\", \"super method\"]\n",
        "print('You selected', question_2)\n",
        "\n",
        "question_3 = \"Add a class constructor\" #@param [\"Add a class constructor\", \"Create an instance of the class\", \"Call the method inside the class\"]\n",
        "print('You selected', question_3)\n"
      ]
    },
    {
      "cell_type": "code",
      "execution_count": 21,
      "id": "badaeaab",
      "metadata": {
        "id": "badaeaab"
      },
      "outputs": [],
      "source": []
    }
  ],
  "metadata": {
    "kernelspec": {
      "display_name": "content-projects_new",
      "language": "python",
      "name": "python3"
    },
    "language_info": {
      "codemirror_mode": {
        "name": "ipython",
        "version": 3
      },
      "file_extension": ".py",
      "mimetype": "text/x-python",
      "name": "python",
      "nbconvert_exporter": "python",
      "pygments_lexer": "ipython3",
      "version": "3.11.0"
    },
    "vscode": {
      "interpreter": {
        "hash": "4b961f8166aad6ccb4cf65d0f9c742ef9c6c23ffe83ad932438cd83ed96aebaf"
      }
    },
    "colab": {
      "provenance": [],
      "include_colab_link": true
    }
  },
  "nbformat": 4,
  "nbformat_minor": 5
}